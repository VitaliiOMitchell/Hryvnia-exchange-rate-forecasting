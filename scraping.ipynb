{
 "cells": [
  {
   "cell_type": "code",
   "execution_count": 9,
   "id": "b716291a",
   "metadata": {},
   "outputs": [],
   "source": [
    "from bs4 import BeautifulSoup\n",
    "from selenium import webdriver\n",
    "from selenium.webdriver.chrome.service import Service\n",
    "import pandas as pd\n",
    "import numpy as np\n",
    "import os\n",
    "import datetime "
   ]
  },
  {
   "cell_type": "code",
   "execution_count": 10,
   "id": "86ab473e",
   "metadata": {},
   "outputs": [],
   "source": [
    "os.chdir(\"F:/Python/Projects/Exchange rate\")"
   ]
  },
  {
   "cell_type": "code",
   "execution_count": 11,
   "id": "f62f1759",
   "metadata": {},
   "outputs": [],
   "source": [
    "service = Service(executable_path=\"F:/Firefox driver/geckodriver.exe\")\n",
    "driver = webdriver.Firefox(service=service)\n",
    "URL = \"https://www.investing.com/currencies/usd-uah-historical-data\"\n",
    "driver.get(URL)"
   ]
  },
  {
   "cell_type": "code",
   "execution_count": 12,
   "id": "e8010a85",
   "metadata": {},
   "outputs": [],
   "source": [
    "bs = BeautifulSoup(driver.page_source, \"html.parser\")\n",
    "table = bs.find(\"table\", attrs={\"class\": \"datatable_table__D_jso datatable_table--border__B_zW0 datatable_table--mobile-basic__W2ilt datatable_table--freeze-column__7YoIE\"})\n",
    "body = table.find(\"tbody\")\n",
    "data = body.find_all(\"tr\")"
   ]
  },
  {
   "cell_type": "code",
   "execution_count": 13,
   "id": "b5d24c84",
   "metadata": {},
   "outputs": [],
   "source": [
    "def create_df(for_df):\n",
    "    df = pd.DataFrame()\n",
    "    dates = []\n",
    "    prices = []\n",
    "    open_vals = []\n",
    "    high_vals = []\n",
    "    low_vals = []\n",
    "    for i in for_df:\n",
    "        date = pd.to_datetime(i.text[0:10])\n",
    "        if date <= pd.to_datetime(\"03-18-2014\"):\n",
    "            dates.append(date)\n",
    "            price = i.text[10:17]\n",
    "            prices.append(price)\n",
    "            open_ = i.text[16:23]\n",
    "            open_vals.append(open_)\n",
    "            high = i.text[22:29]\n",
    "            high_vals.append(high)\n",
    "            low = i.text[28:34]\n",
    "            low_vals.append(low)\n",
    "        else:\n",
    "            dates.append(date)\n",
    "            price = i.text[10:17]\n",
    "            prices.append(price)\n",
    "            open_ = i.text[17:24]\n",
    "            open_vals.append(open_)\n",
    "            high = i.text[24:31]\n",
    "            high_vals.append(high)\n",
    "            low = i.text[31:38]\n",
    "            low_vals.append(low)\n",
    "    df[\"date\"] = dates\n",
    "    df[\"price\"] = prices\n",
    "    df[\"open\"] = open_vals\n",
    "    df[\"high\"] = high_vals\n",
    "    df[\"low\"] = low_vals\n",
    "    \n",
    "    return df\n",
    "        \n"
   ]
  },
  {
   "cell_type": "code",
   "execution_count": 14,
   "id": "0cab7fc7",
   "metadata": {},
   "outputs": [],
   "source": [
    "df = create_df(data)"
   ]
  },
  {
   "cell_type": "code",
   "execution_count": 15,
   "id": "978eac54",
   "metadata": {},
   "outputs": [],
   "source": [
    "df.to_csv(\"exchange_rate3.csv\", index=False)"
   ]
  },
  {
   "cell_type": "code",
   "execution_count": null,
   "id": "80707319",
   "metadata": {},
   "outputs": [],
   "source": []
  },
  {
   "cell_type": "code",
   "execution_count": null,
   "id": "b61ca4be",
   "metadata": {},
   "outputs": [],
   "source": []
  }
 ],
 "metadata": {
  "kernelspec": {
   "display_name": "cool_env",
   "language": "python",
   "name": "cool_env"
  },
  "language_info": {
   "codemirror_mode": {
    "name": "ipython",
    "version": 3
   },
   "file_extension": ".py",
   "mimetype": "text/x-python",
   "name": "python",
   "nbconvert_exporter": "python",
   "pygments_lexer": "ipython3",
   "version": "3.10.9"
  }
 },
 "nbformat": 4,
 "nbformat_minor": 5
}
